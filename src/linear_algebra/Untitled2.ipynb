{
 "cells": [
  {
   "cell_type": "code",
   "execution_count": 1,
   "id": "f188df5f",
   "metadata": {},
   "outputs": [
    {
     "name": "stdout",
     "output_type": "stream",
     "text": [
      " asList: (3,)\n"
     ]
    }
   ],
   "source": [
    "import numpy as np # numpy 패키지 로드하여 np로 사용\n",
    "\n",
    "\n",
    "asList= [1,2,3]\n",
    "asArray= np.array([1,2,3]) # 1차원 행렬\n",
    "rowVec= np.array([[1,3,3]])# 행\n",
    "colVec= np.array([[1],[2],[3]]) # 열\n",
    "\n",
    "\n",
    "print(f' asList: {np.shape(asList)}')"
   ]
  },
  {
   "cell_type": "markdown",
   "id": "2302eae3",
   "metadata": {},
   "source": []
  }
 ],
 "metadata": {
  "kernelspec": {
   "display_name": "Python 3 (ipykernel)",
   "language": "python",
   "name": "python3"
  },
  "language_info": {
   "codemirror_mode": {
    "name": "ipython",
    "version": 3
   },
   "file_extension": ".py",
   "mimetype": "text/x-python",
   "name": "python",
   "nbconvert_exporter": "python",
   "pygments_lexer": "ipython3",
   "version": "3.11.5"
  }
 },
 "nbformat": 4,
 "nbformat_minor": 5
}
