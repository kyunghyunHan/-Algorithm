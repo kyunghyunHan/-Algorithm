{
 "cells": [
  {
   "cell_type": "markdown",
   "id": "e2317506",
   "metadata": {},
   "source": [
    "# 벡터\n",
    "- 선형대수학에서 vector은 수를 순서대로 나열한 것\n",
    "- 차원:벡터가 가진 원소의 수\n",
    "- 방향:벡터가 열방향인지 행방향인지를 나타낸다\n",
    "- 차원R^2은 실수를 N은 차원을 나타낸다\n",
    "  $$x= \\begin{bmatrix} 1  \\\\ 4  \\\\ 5 \\\\6 \\end{bmatrix}$$ \n",
    "  $$y= \\begin{bmatrix} 3  \\\\ -7  \\end{bmatrix}$$\n",
    "  $$z= \\begin{bmatrix} 1, 4 ,5 ,6 \\end{bmatrix}$$\n",
    "-  x= 4차월 열벡터 , y는 2차원 열벡터 z = 4차원 행벡터\n",
    "\n",
    "- 파이썬에서 벡터 또는 행렬의 차원은  수 객체를 출력하는 데 사용하는 기하학적 차원의 수\n",
    "- 선형대수학에서는 보통 벡터에 아무런 표시가 없다면 열방향이라고 표시\n",
    "- 행백터는 w^T, T는 전치연산을 나타내며 전치연산은 열벡터를 행벡터로 변환한다."
   ]
  },
  {
   "cell_type": "code",
   "execution_count": null,
   "id": "d1fde5ee-1953-49f9-a97f-17114439da3a",
   "metadata": {},
   "outputs": [],
   "source": [
    "import numpy as np # numpy 패키지 로드하여 np로 사용\n",
    "#많은 선형대수학연산은 파이썬 리스트에 대해 잘동작하지 않는다.\n",
    "# Numpy의 방향은 대괄호로 지정\n",
    "#가장 바깥족 대괄호는 모든 숫자를 하나로 묶는다.추가적인 내부 괄호 집합을 행을 나타낸다\n",
    "# 행벡터는 하나의 행이 모든 숫자를 가지며 열벡터는 하나의 숫자를 가진 행이 여러개가 있다.\n",
    "asList= [1,2,3 ] # 방향이 없는 배열 ,행이나 열벡터가 아니라 1차원 리스트\n",
    "asArray= np.array([1,2,3]) # 1차원 행렬\n",
    "rowVec= np.array([[1,3,3]])# 행\n",
    "colVec= np.array([[1],[2],[3]]) # 열\n",
    "\n",
    "\n",
    "print(f' asList:  {np.shape(asList)}')\n",
    "print(f' asArray: {asArray.shape}')\n",
    "print(f' rowVec:  {rowVec.shape}')\n",
    "print(f' colVec:  {colVec.shape}')"
   ]
  },
  {
   "cell_type": "code",
   "execution_count": 9,
   "id": "f1a05967",
   "metadata": {},
   "outputs": [
    {
     "name": "stdout",
     "output_type": "stream",
     "text": [
      "[3, 4, 5, 3, 4, 5]\n",
      "[ 6  8 10]\n"
     ]
    }
   ],
   "source": [
    "s= 2\n",
    "a= [3,4,5]\n",
    "b=np.array(a)#np배열\n",
    "print(a*s)\n",
    "print(b*s)\n"
   ]
  },
  {
   "cell_type": "markdown",
   "id": "789f882d-6feb-4960-b460-1722d6acb4bc",
   "metadata": {},
   "source": [
    "## 기하하적 해석\n",
    "- 순서대로 나열된 수목록은 벡터의 대수학적 해석하면 벡터는 특정길이 와 방향을 가진 직선"
   ]
  },
  {
   "cell_type": "markdown",
   "id": "4a179684-f5f7-4d74-a34e-355a80811496",
   "metadata": {},
   "source": [
    "## 벡터연산\n",
    "\n",
    "##### -  덧셈\n",
    "  $$\\begin{bmatrix} 4  \\\\ 5  \\\\ 6  \\end{bmatrix} + \\begin{bmatrix} 10  \\\\ 20  \\\\ 30\\end{bmatrix} = \\begin{bmatrix} 14  \\\\ 25  \\\\ 36  \\end{bmatrix}$$ \n",
    "\n",
    "##### -  뺼셈\n",
    "\n",
    " $$\\begin{bmatrix} 4 \\\\ 5  \\\\ 6 \\end{bmatrix} - \\begin{bmatrix} 10  \\\\ 20  \\\\ 30 \\end{bmatrix} = \\begin{bmatrix} -6  \\\\ -15  \\\\ -24  \\end{bmatrix}$$ \n"
   ]
  },
  {
   "cell_type": "code",
   "execution_count": 7,
   "id": "7c390ba6-feb1-4a60-b1d7-3a22a836b11b",
   "metadata": {},
   "outputs": [
    {
     "ename": "ValueError",
     "evalue": "operands could not be broadcast together with shapes (4,) (3,) ",
     "output_type": "error",
     "traceback": [
      "\u001b[0;31m---------------------------------------------------------------------------\u001b[0m",
      "\u001b[0;31mValueError\u001b[0m                                Traceback (most recent call last)",
      "Cell \u001b[0;32mIn[7], line 5\u001b[0m\n\u001b[1;32m      3\u001b[0m u\u001b[38;5;241m=\u001b[39m np\u001b[38;5;241m.\u001b[39marray([\u001b[38;5;241m0\u001b[39m,\u001b[38;5;241m3\u001b[39m,\u001b[38;5;241m6\u001b[39m,\u001b[38;5;241m9\u001b[39m])\n\u001b[1;32m      4\u001b[0m vPlusW\u001b[38;5;241m=\u001b[39m v\u001b[38;5;241m+\u001b[39mw\n\u001b[0;32m----> 5\u001b[0m uPlusW\u001b[38;5;241m=\u001b[39m \u001b[43mu\u001b[49m\u001b[43m \u001b[49m\u001b[38;5;241;43m+\u001b[39;49m\u001b[43m \u001b[49m\u001b[43mw\u001b[49m \u001b[38;5;66;03m# Error 차원 불일치\u001b[39;00m\n",
      "\u001b[0;31mValueError\u001b[0m: operands could not be broadcast together with shapes (4,) (3,) "
     ]
    }
   ],
   "source": [
    "v = np.array([4,5,6])\n",
    "w=  np.array([10,20,30])\n",
    "u= np.array([0,3,6,9])\n",
    "vPlusW= v+w\n",
    "uPlusW= u + w # Error 차원 불일치"
   ]
  },
  {
   "cell_type": "code",
   "execution_count": 3,
   "id": "32832681-228a-42b9-ae50-66fe9ee1dc35",
   "metadata": {},
   "outputs": [
    {
     "name": "stdout",
     "output_type": "stream",
     "text": [
      "12\n"
     ]
    }
   ],
   "source": [
    "print((6-13)  % 19)"
   ]
  },
  {
   "cell_type": "code",
   "execution_count": null,
   "id": "c655f8f6-ccf0-4b3a-afe9-60bdfa02d354",
   "metadata": {},
   "outputs": [],
   "source": []
  }
 ],
 "metadata": {
  "kernelspec": {
   "display_name": "Python 3 (ipykernel)",
   "language": "python",
   "name": "python3"
  },
  "language_info": {
   "codemirror_mode": {
    "name": "ipython",
    "version": 3
   },
   "file_extension": ".py",
   "mimetype": "text/x-python",
   "name": "python",
   "nbconvert_exporter": "python",
   "pygments_lexer": "ipython3",
   "version": "3.11.6"
  }
 },
 "nbformat": 4,
 "nbformat_minor": 5
}
