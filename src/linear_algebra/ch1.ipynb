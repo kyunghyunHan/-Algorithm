{
 "cells": [
  {
   "cell_type": "code",
   "execution_count": 4,
   "id": "f188df5f",
   "metadata": {},
   "outputs": [
    {
     "name": "stdout",
     "output_type": "stream",
     "text": [
      " asList:  (3,)\n",
      " asArray: (3,)\n",
      " rowVec:  (1, 3)\n",
      " colVec:  (3, 1)\n"
     ]
    }
   ],
   "source": [
    "import numpy as np # numpy 패키지 로드하여 np로 사용\n",
    "\n",
    "\n",
    "asList= [1,2,3]\n",
    "asArray= np.array([1,2,3]) # 1차원 행렬\n",
    "rowVec= np.array([[1,3,3]])# 행\n",
    "colVec= np.array([[1],[2],[3]]) # 열\n",
    "\n",
    "\n",
    "print(f' asList:  {np.shape(asList)}')\n",
    "print(f' asArray: {asArray.shape}')\n",
    "print(f' rowVec:  {rowVec.shape}')\n",
    "print(f' colVec:  {colVec.shape}')"
   ]
  },
  {
   "cell_type": "code",
   "execution_count": 9,
   "id": "44aa3a26",
   "metadata": {},
   "outputs": [
    {
     "name": "stdout",
     "output_type": "stream",
     "text": [
      "[3, 4, 5, 3, 4, 5]\n",
      "[ 6  8 10]\n"
     ]
    }
   ],
   "source": [
    "s= 2\n",
    "a= [3,4,5]\n",
    "b=np.array(a)#np배열\n",
    "print(a*s)\n",
    "print(b*s)\n"
   ]
  },
  {
   "cell_type": "code",
   "execution_count": null,
   "id": "7c0cc709",
   "metadata": {},
   "outputs": [],
   "source": []
  }
 ],
 "metadata": {
  "kernelspec": {
   "display_name": "Python 3 (ipykernel)",
   "language": "python",
   "name": "python3"
  },
  "language_info": {
   "codemirror_mode": {
    "name": "ipython",
    "version": 3
   },
   "file_extension": ".py",
   "mimetype": "text/x-python",
   "name": "python",
   "nbconvert_exporter": "python",
   "pygments_lexer": "ipython3",
   "version": "3.11.5"
  }
 },
 "nbformat": 4,
 "nbformat_minor": 5
}
